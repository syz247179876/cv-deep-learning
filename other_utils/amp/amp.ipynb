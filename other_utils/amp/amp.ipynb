{
 "cells": [
  {
   "cell_type": "code",
   "execution_count": 2,
   "metadata": {
    "collapsed": true
   },
   "outputs": [],
   "source": [
    "import time\n",
    "\n",
    "import torch\n",
    "import torch.nn as nn\n",
    "from torch import optim\n",
    "from torchvision.models import resnet50\n",
    "from torchsummary import summary\n",
    "from torch.optim import lr_scheduler\n",
    "from torch.cuda.amp import GradScaler, autocast"
   ]
  },
  {
   "cell_type": "code",
   "execution_count": 3,
   "outputs": [
    {
     "name": "stderr",
     "output_type": "stream",
     "text": [
      "D:\\projects\\cv-deep-learning\\venv\\lib\\site-packages\\torchvision\\models\\_utils.py:208: UserWarning: The parameter 'pretrained' is deprecated since 0.13 and may be removed in the future, please use 'weights' instead.\n",
      "  warnings.warn(\n",
      "D:\\projects\\cv-deep-learning\\venv\\lib\\site-packages\\torchvision\\models\\_utils.py:223: UserWarning: Arguments other than a weight enum or `None` for 'weights' are deprecated since 0.13 and may be removed in the future. The current behavior is equivalent to passing `weights=ResNet50_Weights.IMAGENET1K_V1`. You can also use `weights=ResNet50_Weights.DEFAULT` to get the most up-to-date weights.\n",
      "  warnings.warn(msg)\n"
     ]
    }
   ],
   "source": [
    "model = resnet50(pretrained=True).to('cuda:0')\n",
    "# x = torch.rand(3, 640, 640).to('cuda:0')\n",
    "# summary(model, x.squeeze(0).shape, batch_size=8)"
   ],
   "metadata": {
    "collapsed": false
   }
  },
  {
   "cell_type": "code",
   "execution_count": 4,
   "outputs": [],
   "source": [
    "targets = torch.ones(16, 1000).to(0)\n",
    "def compute_loss(pred: torch.Tensor):\n",
    "    func = nn.CrossEntropyLoss(reduction='mean')\n",
    "    return func(pred, targets)\n"
   ],
   "metadata": {
    "collapsed": false
   }
  },
  {
   "cell_type": "code",
   "execution_count": 5,
   "outputs": [
    {
     "name": "stdout",
     "output_type": "stream",
     "text": [
      "不使用用amp消耗的时间：3.076925277709961秒\n"
     ]
    }
   ],
   "source": [
    "data = torch.rand(16, 3, 640, 640).to(0)\n",
    "total_epoch = 5\n",
    "def without_amp():\n",
    "    optimizer = optim.SGD(model.parameters(), momentum=0.9, lr=0.1)\n",
    "    scheduler = lr_scheduler.LambdaLR(optimizer, lambda x: (1 - x / total_epoch) * (1 - 0.1) + 0.1)\n",
    "\n",
    "    for e in range(0, total_epoch):\n",
    "        optimizer.zero_grad()\n",
    "        pred = model(data)\n",
    "        loss = compute_loss(pred)\n",
    "        loss.backward()\n",
    "        optimizer.step()\n",
    "        scheduler.step()\n",
    "t1 = time.time()\n",
    "without_amp()\n",
    "t2 = time.time()\n",
    "print(f'不使用用amp消耗的时间：{t2 - t1}秒')"
   ],
   "metadata": {
    "collapsed": false
   }
  },
  {
   "cell_type": "code",
   "execution_count": 10,
   "outputs": [
    {
     "name": "stdout",
     "output_type": "stream",
     "text": [
      "使用amp消耗的时间：1.4285361766815186秒\n"
     ]
    }
   ],
   "source": [
    "def with_amp():\n",
    "    optimizer = optim.SGD(model.parameters(), momentum=0.9, lr=0.1)\n",
    "    scheduler = lr_scheduler.LambdaLR(optimizer, lambda x: (1 - x / total_epoch) * (1 - 0.1) + 0.1)\n",
    "    scaler = GradScaler()\n",
    "\n",
    "    for e in range(0, total_epoch):\n",
    "        optimizer.zero_grad()\n",
    "        # 对部分算子转为FP16(如Conv, Weight, Activations) , 部分算子转为FP32(拷贝一份)\n",
    "        with autocast():\n",
    "            pred = model(data)\n",
    "            loss = compute_loss(pred)\n",
    "        # 对loss缩放, 先转为FP16进行反向传播\n",
    "        scaler.scale(loss).backward()\n",
    "        # 更新权重前unscale为FP32。 如果loss为nan， 则跳过当前iteration的optimizer的权重更新\n",
    "        scaler.step(optimizer)\n",
    "        # 根据loss值动态修改scale factor, 若上一步权重更新跳过, 则scale * backoff_factor下降因子, 若权重参数正常更新, 则scale * growth_factor上升因子，也可以用new_scale直接更新scale factor\n",
    "        scaler.update()\n",
    "        scheduler.step()\n",
    "t1 = time.time()\n",
    "with_amp()\n",
    "t2 = time.time()\n",
    "print(f'使用amp消耗的时间：{t2 - t1}秒')"
   ],
   "metadata": {
    "collapsed": false
   }
  },
  {
   "cell_type": "code",
   "execution_count": null,
   "outputs": [
    {
     "ename": "KeyboardInterrupt",
     "evalue": "",
     "output_type": "error",
     "traceback": [
      "\u001B[1;31m---------------------------------------------------------------------------\u001B[0m",
      "\u001B[1;31mKeyboardInterrupt\u001B[0m                         Traceback (most recent call last)",
      "Cell \u001B[1;32mIn[25], line 5\u001B[0m\n\u001B[0;32m      3\u001B[0m c_float32 \u001B[38;5;241m=\u001B[39m torch\u001B[38;5;241m.\u001B[39mrand((\u001B[38;5;241m8\u001B[39m, \u001B[38;5;241m8\u001B[39m), device\u001B[38;5;241m=\u001B[39m\u001B[38;5;124m'\u001B[39m\u001B[38;5;124mcuda:0\u001B[39m\u001B[38;5;124m'\u001B[39m)\n\u001B[0;32m      4\u001B[0m d_float32 \u001B[38;5;241m=\u001B[39m torch\u001B[38;5;241m.\u001B[39mrand((\u001B[38;5;241m8\u001B[39m, \u001B[38;5;241m8\u001B[39m), device\u001B[38;5;241m=\u001B[39m\u001B[38;5;124m'\u001B[39m\u001B[38;5;124mcuda:0\u001B[39m\u001B[38;5;124m'\u001B[39m)\n\u001B[1;32m----> 5\u001B[0m \u001B[38;5;28;01mwith\u001B[39;00m \u001B[43mautocast\u001B[49m\u001B[43m(\u001B[49m\u001B[43m)\u001B[49m:\n\u001B[0;32m      6\u001B[0m     \u001B[38;5;66;03m# mm操作会自动将float32等类型转换为fp16, 进行运算\u001B[39;00m\n\u001B[0;32m      7\u001B[0m     e_float16 \u001B[38;5;241m=\u001B[39m torch\u001B[38;5;241m.\u001B[39mmm(a_float32, b_float32)\n\u001B[0;32m      8\u001B[0m     f_float16 \u001B[38;5;241m=\u001B[39m torch\u001B[38;5;241m.\u001B[39mmm(d_float32, c_float32)\n",
      "File \u001B[1;32mD:\\projects\\cv-deep-learning\\venv\\lib\\site-packages\\torch\\cuda\\amp\\autocast_mode.py:25\u001B[0m, in \u001B[0;36mautocast.__init__\u001B[1;34m(self, enabled, dtype, cache_enabled)\u001B[0m\n\u001B[0;32m     23\u001B[0m     \u001B[38;5;28mself\u001B[39m\u001B[38;5;241m.\u001B[39mfast_dtype \u001B[38;5;241m=\u001B[39m dtype\n\u001B[0;32m     24\u001B[0m     \u001B[38;5;28;01mreturn\u001B[39;00m\n\u001B[1;32m---> 25\u001B[0m \u001B[38;5;28;43msuper\u001B[39;49m\u001B[43m(\u001B[49m\u001B[43m)\u001B[49m\u001B[38;5;241;43m.\u001B[39;49m\u001B[38;5;21;43m__init__\u001B[39;49m\u001B[43m(\u001B[49m\u001B[38;5;124;43m\"\u001B[39;49m\u001B[38;5;124;43mcpu\u001B[39;49m\u001B[38;5;124;43m\"\u001B[39;49m\u001B[43m,\u001B[49m\u001B[43m \u001B[49m\u001B[43menabled\u001B[49m\u001B[38;5;241;43m=\u001B[39;49m\u001B[43menabled\u001B[49m\u001B[43m,\u001B[49m\u001B[43m \u001B[49m\u001B[43mdtype\u001B[49m\u001B[38;5;241;43m=\u001B[39;49m\u001B[43mdtype\u001B[49m\u001B[43m,\u001B[49m\u001B[43m \u001B[49m\u001B[43mcache_enabled\u001B[49m\u001B[38;5;241;43m=\u001B[39;49m\u001B[43mcache_enabled\u001B[49m\u001B[43m)\u001B[49m\n",
      "File \u001B[1;32mD:\\projects\\cv-deep-learning\\venv\\lib\\site-packages\\torch\\amp\\autocast_mode.py:235\u001B[0m, in \u001B[0;36mautocast.__init__\u001B[1;34m(self, device_type, dtype, enabled, cache_enabled)\u001B[0m\n\u001B[0;32m    233\u001B[0m     \u001B[38;5;28;01mif\u001B[39;00m \u001B[38;5;28mself\u001B[39m\u001B[38;5;241m.\u001B[39mfast_dtype \u001B[38;5;241m==\u001B[39m torch\u001B[38;5;241m.\u001B[39mbfloat16 \u001B[38;5;129;01mand\u001B[39;00m \u001B[38;5;129;01mnot\u001B[39;00m torch\u001B[38;5;241m.\u001B[39mcuda\u001B[38;5;241m.\u001B[39mis_bf16_supported():\n\u001B[0;32m    234\u001B[0m         \u001B[38;5;28;01mraise\u001B[39;00m \u001B[38;5;167;01mRuntimeError\u001B[39;00m(\u001B[38;5;124m'\u001B[39m\u001B[38;5;124mCurrent CUDA Device does not support bfloat16. Please switch dtype to float16.\u001B[39m\u001B[38;5;124m'\u001B[39m)\n\u001B[1;32m--> 235\u001B[0m \u001B[38;5;28mself\u001B[39m\u001B[38;5;241m.\u001B[39m_enabled \u001B[38;5;241m=\u001B[39m \u001B[43menabled\u001B[49m\n",
      "File \u001B[1;32mD:\\projects\\cv-deep-learning\\venv\\lib\\site-packages\\torch\\amp\\autocast_mode.py:235\u001B[0m, in \u001B[0;36mautocast.__init__\u001B[1;34m(self, device_type, dtype, enabled, cache_enabled)\u001B[0m\n\u001B[0;32m    233\u001B[0m     \u001B[38;5;28;01mif\u001B[39;00m \u001B[38;5;28mself\u001B[39m\u001B[38;5;241m.\u001B[39mfast_dtype \u001B[38;5;241m==\u001B[39m torch\u001B[38;5;241m.\u001B[39mbfloat16 \u001B[38;5;129;01mand\u001B[39;00m \u001B[38;5;129;01mnot\u001B[39;00m torch\u001B[38;5;241m.\u001B[39mcuda\u001B[38;5;241m.\u001B[39mis_bf16_supported():\n\u001B[0;32m    234\u001B[0m         \u001B[38;5;28;01mraise\u001B[39;00m \u001B[38;5;167;01mRuntimeError\u001B[39;00m(\u001B[38;5;124m'\u001B[39m\u001B[38;5;124mCurrent CUDA Device does not support bfloat16. Please switch dtype to float16.\u001B[39m\u001B[38;5;124m'\u001B[39m)\n\u001B[1;32m--> 235\u001B[0m \u001B[38;5;28mself\u001B[39m\u001B[38;5;241m.\u001B[39m_enabled \u001B[38;5;241m=\u001B[39m \u001B[43menabled\u001B[49m\n",
      "File \u001B[1;32m_pydevd_bundle\\pydevd_cython_win32_310_64.pyx:1179\u001B[0m, in \u001B[0;36m_pydevd_bundle.pydevd_cython_win32_310_64.SafeCallWrapper.__call__\u001B[1;34m()\u001B[0m\n",
      "File \u001B[1;32m_pydevd_bundle\\pydevd_cython_win32_310_64.pyx:620\u001B[0m, in \u001B[0;36m_pydevd_bundle.pydevd_cython_win32_310_64.PyDBFrame.trace_dispatch\u001B[1;34m()\u001B[0m\n",
      "File \u001B[1;32m_pydevd_bundle\\pydevd_cython_win32_310_64.pyx:1095\u001B[0m, in \u001B[0;36m_pydevd_bundle.pydevd_cython_win32_310_64.PyDBFrame.trace_dispatch\u001B[1;34m()\u001B[0m\n",
      "File \u001B[1;32m_pydevd_bundle\\pydevd_cython_win32_310_64.pyx:1057\u001B[0m, in \u001B[0;36m_pydevd_bundle.pydevd_cython_win32_310_64.PyDBFrame.trace_dispatch\u001B[1;34m()\u001B[0m\n",
      "File \u001B[1;32m_pydevd_bundle\\pydevd_cython_win32_310_64.pyx:317\u001B[0m, in \u001B[0;36m_pydevd_bundle.pydevd_cython_win32_310_64.PyDBFrame.do_wait_suspend\u001B[1;34m()\u001B[0m\n",
      "File \u001B[1;32mD:\\pycharm\\PyCharm 2022.2.3\\plugins\\python\\helpers\\pydev\\pydevd.py:1160\u001B[0m, in \u001B[0;36mPyDB.do_wait_suspend\u001B[1;34m(self, thread, frame, event, arg, send_suspend_message, is_unhandled_exception)\u001B[0m\n\u001B[0;32m   1157\u001B[0m         from_this_thread\u001B[38;5;241m.\u001B[39mappend(frame_id)\n\u001B[0;32m   1159\u001B[0m \u001B[38;5;28;01mwith\u001B[39;00m \u001B[38;5;28mself\u001B[39m\u001B[38;5;241m.\u001B[39m_threads_suspended_single_notification\u001B[38;5;241m.\u001B[39mnotify_thread_suspended(thread_id, stop_reason):\n\u001B[1;32m-> 1160\u001B[0m     \u001B[38;5;28;43mself\u001B[39;49m\u001B[38;5;241;43m.\u001B[39;49m\u001B[43m_do_wait_suspend\u001B[49m\u001B[43m(\u001B[49m\u001B[43mthread\u001B[49m\u001B[43m,\u001B[49m\u001B[43m \u001B[49m\u001B[43mframe\u001B[49m\u001B[43m,\u001B[49m\u001B[43m \u001B[49m\u001B[43mevent\u001B[49m\u001B[43m,\u001B[49m\u001B[43m \u001B[49m\u001B[43marg\u001B[49m\u001B[43m,\u001B[49m\u001B[43m \u001B[49m\u001B[43msuspend_type\u001B[49m\u001B[43m,\u001B[49m\u001B[43m \u001B[49m\u001B[43mfrom_this_thread\u001B[49m\u001B[43m)\u001B[49m\n",
      "File \u001B[1;32mD:\\pycharm\\PyCharm 2022.2.3\\plugins\\python\\helpers\\pydev\\pydevd.py:1175\u001B[0m, in \u001B[0;36mPyDB._do_wait_suspend\u001B[1;34m(self, thread, frame, event, arg, suspend_type, from_this_thread)\u001B[0m\n\u001B[0;32m   1172\u001B[0m             \u001B[38;5;28mself\u001B[39m\u001B[38;5;241m.\u001B[39m_call_mpl_hook()\n\u001B[0;32m   1174\u001B[0m         \u001B[38;5;28mself\u001B[39m\u001B[38;5;241m.\u001B[39mprocess_internal_commands()\n\u001B[1;32m-> 1175\u001B[0m         \u001B[43mtime\u001B[49m\u001B[38;5;241;43m.\u001B[39;49m\u001B[43msleep\u001B[49m\u001B[43m(\u001B[49m\u001B[38;5;241;43m0.01\u001B[39;49m\u001B[43m)\u001B[49m\n\u001B[0;32m   1177\u001B[0m \u001B[38;5;28mself\u001B[39m\u001B[38;5;241m.\u001B[39mcancel_async_evaluation(get_current_thread_id(thread), \u001B[38;5;28mstr\u001B[39m(\u001B[38;5;28mid\u001B[39m(frame)))\n\u001B[0;32m   1179\u001B[0m \u001B[38;5;66;03m# process any stepping instructions\u001B[39;00m\n",
      "\u001B[1;31mKeyboardInterrupt\u001B[0m: "
     ]
    }
   ],
   "source": [
    "a_float32 = torch.rand((8, 8), device='cuda:0')\n",
    "b_float32 = torch.rand((8, 8), device='cuda:0')\n",
    "c_float32 = torch.rand((8, 8), device='cuda:0')\n",
    "d_float32 = torch.rand((8, 8), device='cuda:0')\n",
    "with autocast():\n",
    "    # mm操作会自动将float32等类型转换为fp16, 进行运算\n",
    "    e_float16 = torch.mm(a_float32, b_float32)\n",
    "    f_float16 = torch.mm(d_float32, c_float32)\n",
    "print(e_float16.dtype, f_float16.dtype)\n",
    "\n",
    "# 在autocast外部, f_float16仍为fp16类型, 若不同精度的数据相互运算, 都是按照数据中较大的数值精度进行操作，因此需要转为fp16\n",
    "g_float32 = torch.mm(d_float32, f_float16.type(torch.float32))\n",
    "print(g_float32.dtype)"
   ],
   "metadata": {
    "collapsed": false
   }
  },
  {
   "cell_type": "code",
   "execution_count": null,
   "outputs": [],
   "source": [],
   "metadata": {
    "collapsed": false
   }
  }
 ],
 "metadata": {
  "kernelspec": {
   "display_name": "Python 3",
   "language": "python",
   "name": "python3"
  },
  "language_info": {
   "codemirror_mode": {
    "name": "ipython",
    "version": 2
   },
   "file_extension": ".py",
   "mimetype": "text/x-python",
   "name": "python",
   "nbconvert_exporter": "python",
   "pygments_lexer": "ipython2",
   "version": "2.7.6"
  }
 },
 "nbformat": 4,
 "nbformat_minor": 0
}
