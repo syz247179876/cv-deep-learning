{
 "cells": [
  {
   "cell_type": "code",
   "execution_count": 2,
   "metadata": {
    "collapsed": true
   },
   "outputs": [],
   "source": [
    "import time\n",
    "\n",
    "import torch\n",
    "import torch.nn as nn\n",
    "from torch import optim\n",
    "from torchvision.models import resnet50\n",
    "from torchsummary import summary\n",
    "from torch.optim import lr_scheduler\n",
    "from torch.cuda.amp import GradScaler, autocast"
   ]
  },
  {
   "cell_type": "code",
   "execution_count": 3,
   "outputs": [
    {
     "name": "stderr",
     "output_type": "stream",
     "text": [
      "D:\\projects\\cv-deep-learning\\venv\\lib\\site-packages\\torchvision\\models\\_utils.py:208: UserWarning: The parameter 'pretrained' is deprecated since 0.13 and may be removed in the future, please use 'weights' instead.\n",
      "  warnings.warn(\n",
      "D:\\projects\\cv-deep-learning\\venv\\lib\\site-packages\\torchvision\\models\\_utils.py:223: UserWarning: Arguments other than a weight enum or `None` for 'weights' are deprecated since 0.13 and may be removed in the future. The current behavior is equivalent to passing `weights=ResNet50_Weights.IMAGENET1K_V1`. You can also use `weights=ResNet50_Weights.DEFAULT` to get the most up-to-date weights.\n",
      "  warnings.warn(msg)\n"
     ]
    }
   ],
   "source": [
    "model = resnet50(pretrained=True).to('cuda:0')\n",
    "# x = torch.rand(3, 640, 640).to('cuda:0')\n",
    "# summary(model, x.squeeze(0).shape, batch_size=8)"
   ],
   "metadata": {
    "collapsed": false
   }
  },
  {
   "cell_type": "code",
   "execution_count": 4,
   "outputs": [],
   "source": [
    "targets = torch.ones(16, 1000).to(0)\n",
    "def compute_loss(pred: torch.Tensor):\n",
    "    func = nn.CrossEntropyLoss(reduction='mean')\n",
    "    return func(pred, targets)\n"
   ],
   "metadata": {
    "collapsed": false
   }
  },
  {
   "cell_type": "code",
   "execution_count": 5,
   "outputs": [
    {
     "name": "stdout",
     "output_type": "stream",
     "text": [
      "不使用用amp消耗的时间：3.076925277709961秒\n"
     ]
    }
   ],
   "source": [
    "data = torch.rand(16, 3, 640, 640).to(0)\n",
    "total_epoch = 5\n",
    "def without_amp():\n",
    "    optimizer = optim.SGD(model.parameters(), momentum=0.9, lr=0.1)\n",
    "    scheduler = lr_scheduler.LambdaLR(optimizer, lambda x: (1 - x / total_epoch) * (1 - 0.1) + 0.1)\n",
    "\n",
    "    for e in range(0, total_epoch):\n",
    "        optimizer.zero_grad()\n",
    "        pred = model(data)\n",
    "        loss = compute_loss(pred)\n",
    "        loss.backward()\n",
    "        optimizer.step()\n",
    "        scheduler.step()\n",
    "t1 = time.time()\n",
    "without_amp()\n",
    "t2 = time.time()\n",
    "print(f'不使用用amp消耗的时间：{t2 - t1}秒')"
   ],
   "metadata": {
    "collapsed": false
   }
  },
  {
   "cell_type": "code",
   "execution_count": 9,
   "outputs": [
    {
     "name": "stdout",
     "output_type": "stream",
     "text": [
      "使用amp消耗的时间：1.554337978363037秒\n"
     ]
    }
   ],
   "source": [
    "def with_amp():\n",
    "    optimizer = optim.SGD(model.parameters(), momentum=0.9, lr=0.1)\n",
    "    scheduler = lr_scheduler.LambdaLR(optimizer, lambda x: (1 - x / total_epoch) * (1 - 0.1) + 0.1)\n",
    "    scaler = GradScaler()\n",
    "\n",
    "    for e in range(0, total_epoch):\n",
    "        optimizer.zero_grad()\n",
    "        # 对部分算子转为FP16(如Weight, Activations) , 部分算子转为FP32(拷贝一份)\n",
    "        with autocast():\n",
    "            pred = model(data)\n",
    "            loss = compute_loss(pred)\n",
    "        # 对loss缩放, 先转为FP16进行反向传播\n",
    "        scaler.scale(loss).backward()\n",
    "        # 更新权重前转为FP32， 如果loss为nan， 则跳过当前iteration权重更新\n",
    "        scaler.step(optimizer)\n",
    "        # 根据loss值动态修改scale factor\n",
    "        scaler.update()\n",
    "        scheduler.step()\n",
    "t1 = time.time()\n",
    "with_amp()\n",
    "t2 = time.time()\n",
    "print(f'使用amp消耗的时间：{t2 - t1}秒')"
   ],
   "metadata": {
    "collapsed": false
   }
  },
  {
   "cell_type": "code",
   "execution_count": null,
   "outputs": [],
   "source": [],
   "metadata": {
    "collapsed": false
   }
  }
 ],
 "metadata": {
  "kernelspec": {
   "display_name": "Python 3",
   "language": "python",
   "name": "python3"
  },
  "language_info": {
   "codemirror_mode": {
    "name": "ipython",
    "version": 2
   },
   "file_extension": ".py",
   "mimetype": "text/x-python",
   "name": "python",
   "nbconvert_exporter": "python",
   "pygments_lexer": "ipython2",
   "version": "2.7.6"
  }
 },
 "nbformat": 4,
 "nbformat_minor": 0
}
