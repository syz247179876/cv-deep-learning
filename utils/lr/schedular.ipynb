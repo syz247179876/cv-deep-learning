{
 "cells": [
  {
   "cell_type": "code",
   "execution_count": 36,
   "metadata": {
    "collapsed": true
   },
   "outputs": [],
   "source": [
    "import torch\n",
    "import torch.nn as nn\n",
    "from torch.optim import SGD\n",
    "from torch.optim import lr_scheduler"
   ]
  },
  {
   "cell_type": "code",
   "execution_count": null,
   "outputs": [],
   "source": [],
   "metadata": {
    "collapsed": false
   }
  },
  {
   "cell_type": "code",
   "execution_count": 17,
   "outputs": [],
   "source": [
    "def initial_weights(module: nn.Module):\n",
    "    if isinstance(module, nn.Conv2d):\n",
    "        torch.nn.init.zeros_(module.bias)\n",
    "        torch.nn.init.constant_(module.weight, 1)\n",
    "\n",
    "class Model(nn.Module):\n",
    "\n",
    "    def __init__(self):\n",
    "        super(Model, self).__init__()\n",
    "        self.conv = nn.Conv2d(in_channels=3, out_channels=64, kernel_size=1, stride=1)\n",
    "        self.apply(initial_weights)\n",
    "\n",
    "    def forward(self, x: torch.Tensor):\n",
    "        return self.conv(x)"
   ],
   "metadata": {
    "collapsed": false
   }
  },
  {
   "cell_type": "code",
   "execution_count": 78,
   "outputs": [],
   "source": [
    "model = Model()\n",
    "initial_lr = 0.01\n",
    "optimizer = SGD(params=model.parameters(), lr=initial_lr)"
   ],
   "metadata": {
    "collapsed": false
   }
  },
  {
   "cell_type": "markdown",
   "source": [
    "## LambdaLR 学习曲率调整策略\n",
    "学习曲率的衰减按照每一epoch，基于lr_lambda接受的函数计算\n"
   ],
   "metadata": {
    "collapsed": false
   }
  },
  {
   "cell_type": "code",
   "execution_count": 92,
   "outputs": [
    {
     "name": "stdout",
     "output_type": "stream",
     "text": [
      "初始化的学习率： 0.01\n",
      "当前epoch-1学习率: 0.01\n",
      "当前epoch-6学习率: 0.005\n",
      "当前epoch-11学习率: 0.003333333333333333\n",
      "当前epoch-16学习率: 0.0025\n",
      "当前epoch-21学习率: 0.002\n",
      "当前epoch-26学习率: 0.0016666666666666666\n"
     ]
    },
    {
     "data": {
      "text/plain": "{'base_lrs': [0.01],\n 'last_epoch': 6,\n 'verbose': False,\n '_step_count': 7,\n '_get_lr_called_within_step': False,\n '_last_lr': [0.0014285714285714286],\n 'lr_lambdas': [None]}"
     },
     "execution_count": 92,
     "metadata": {},
     "output_type": "execute_result"
    }
   ],
   "source": [
    "optimizer.param_groups[0][\"lr\"] = optimizer.defaults['lr']\n",
    "# 使用schedular接管optimizer的学习率的更新后，在optimizer.param_groups中增加参数initial_lr\n",
    "schedular = lr_scheduler.LambdaLR(optimizer, lr_lambda=lambda epoch: 1 / (epoch + 1), last_epoch=-1)\n",
    "\n",
    "print(\"初始化的学习率：\", optimizer.defaults['lr'])\n",
    "for epoch in range(0, 30, 5):\n",
    "    optimizer.zero_grad()\n",
    "    optimizer.step()\n",
    "    print(f'当前epoch-{epoch + 1}学习率: {optimizer.param_groups[0][\"lr\"]}')\n",
    "    schedular.step()\n"
   ],
   "metadata": {
    "collapsed": false
   }
  },
  {
   "cell_type": "markdown",
   "source": [
    "## StepLR学习曲率调整策略\n",
    "每隔step_size的epoch, 学习率衰减为原来的0.5倍"
   ],
   "metadata": {
    "collapsed": false
   }
  },
  {
   "cell_type": "code",
   "execution_count": 85,
   "outputs": [
    {
     "name": "stdout",
     "output_type": "stream",
     "text": [
      "初始化的学习率： 0.01\n",
      "当前epoch-1学习率: 0.01\n",
      "当前epoch-6学习率: 0.01\n",
      "当前epoch-11学习率: 0.005\n",
      "当前epoch-16学习率: 0.005\n",
      "当前epoch-21学习率: 0.0025\n",
      "当前epoch-26学习率: 0.0025\n",
      "当前epoch-31学习率: 0.00125\n",
      "当前epoch-36学习率: 0.00125\n",
      "当前epoch-41学习率: 0.000625\n",
      "当前epoch-46学习率: 0.000625\n"
     ]
    }
   ],
   "source": [
    "optimizer.param_groups[0][\"lr\"] = optimizer.defaults['lr']\n",
    "# last_epoch为-1表示从头开始训练\n",
    "# 每隔step_size的epoch, 学习率衰减为原来的0.1倍\n",
    "schedular = lr_scheduler.StepLR(optimizer, step_size=2, gamma=0.5)\n",
    "print(\"初始化的学习率：\", optimizer.defaults['lr'])\n",
    "for epoch in range(0, 50, 5):\n",
    "    optimizer.zero_grad()\n",
    "    optimizer.step()\n",
    "    print(f'当前epoch-{epoch + 1}学习率: {optimizer.param_groups[0][\"lr\"]}')\n",
    "    schedular.step()"
   ],
   "metadata": {
    "collapsed": false
   }
  },
  {
   "cell_type": "markdown",
   "source": [
    "## MultipleStepLR 学习曲率调整策略\n",
    "按照milestones的epoch间隔, 学习率衰减为原来的0.5倍"
   ],
   "metadata": {
    "collapsed": false
   }
  },
  {
   "cell_type": "code",
   "execution_count": 94,
   "outputs": [
    {
     "name": "stdout",
     "output_type": "stream",
     "text": [
      "初始化的学习率： 0.01\n",
      "当前epoch-1学习率: 0.01\n",
      "当前epoch-2学习率: 0.01\n",
      "当前epoch-3学习率: 0.005\n",
      "当前epoch-4学习率: 0.005\n",
      "当前epoch-5学习率: 0.005\n",
      "当前epoch-6学习率: 0.0025\n",
      "当前epoch-7学习率: 0.0025\n",
      "当前epoch-8学习率: 0.0025\n",
      "当前epoch-9学习率: 0.00125\n",
      "当前epoch-10学习率: 0.00125\n",
      "当前epoch-11学习率: 0.00125\n",
      "当前epoch-12学习率: 0.00125\n",
      "当前epoch-13学习率: 0.000625\n",
      "当前epoch-14学习率: 0.000625\n",
      "当前epoch-15学习率: 0.000625\n",
      "当前epoch-16学习率: 0.000625\n",
      "当前epoch-17学习率: 0.0003125\n",
      "当前epoch-18学习率: 0.0003125\n",
      "当前epoch-19学习率: 0.0003125\n",
      "当前epoch-20学习率: 0.0003125\n",
      "当前epoch-21学习率: 0.0003125\n",
      "当前epoch-22学习率: 0.0003125\n",
      "当前epoch-23学习率: 0.0003125\n",
      "当前epoch-24学习率: 0.0003125\n",
      "当前epoch-25学习率: 0.0003125\n",
      "当前epoch-26学习率: 0.00015625\n",
      "当前epoch-27学习率: 0.00015625\n",
      "当前epoch-28学习率: 0.00015625\n",
      "当前epoch-29学习率: 0.00015625\n",
      "当前epoch-30学习率: 0.00015625\n"
     ]
    }
   ],
   "source": [
    "# 按照milestones的epoch间隔, 学习率衰减为原来的0.5倍\n",
    "optimizer.param_groups[0][\"lr\"] = optimizer.defaults['lr']\n",
    "schedular = lr_scheduler.MultiStepLR(optimizer, milestones=[2, 5, 8, 12, 16, 25], gamma=0.5)\n",
    "print(\"初始化的学习率：\", optimizer.defaults['lr'])\n",
    "for epoch in range(0, 30, 1):\n",
    "    optimizer.zero_grad()\n",
    "    optimizer.step()\n",
    "    print(f'当前epoch-{epoch + 1}学习率: {optimizer.param_groups[0][\"lr\"]}')\n",
    "    schedular.step()"
   ],
   "metadata": {
    "collapsed": false
   }
  },
  {
   "cell_type": "markdown",
   "source": [
    "## MultiplicativeLR 学习曲率调整策略\n",
    "将每个参数组的学习率乘以指定函数中给定的因子"
   ],
   "metadata": {
    "collapsed": false
   }
  },
  {
   "cell_type": "code",
   "execution_count": 100,
   "outputs": [
    {
     "name": "stdout",
     "output_type": "stream",
     "text": [
      "初始化的学习率： 0.01\n",
      "当前epoch-1学习率: 0.01\n",
      "当前epoch-2学习率: 0.005\n",
      "当前epoch-3学习率: 0.0016666666666666666\n",
      "当前epoch-4学习率: 0.00041666666666666664\n",
      "当前epoch-5学习率: 8.333333333333333e-05\n",
      "当前epoch-6学习率: 1.3888888888888888e-05\n",
      "当前epoch-7学习率: 1.984126984126984e-06\n",
      "当前epoch-8学习率: 2.48015873015873e-07\n",
      "当前epoch-9学习率: 2.7557319223985888e-08\n",
      "当前epoch-10学习率: 2.755731922398589e-09\n",
      "当前epoch-11学习率: 2.505210838544172e-10\n",
      "当前epoch-12学习率: 2.08767569878681e-11\n",
      "当前epoch-13学习率: 1.6059043836821616e-12\n",
      "当前epoch-14学习率: 1.1470745597729724e-13\n",
      "当前epoch-15学习率: 7.647163731819816e-15\n",
      "当前epoch-16学习率: 4.779477332387385e-16\n",
      "当前epoch-17学习率: 2.81145725434552e-17\n",
      "当前epoch-18学习率: 1.5619206968586222e-18\n",
      "当前epoch-19学习率: 8.220635246624327e-20\n",
      "当前epoch-20学习率: 4.1103176233121636e-21\n",
      "当前epoch-21学习率: 1.9572941063391255e-22\n",
      "当前epoch-22学习率: 8.89679139245057e-24\n",
      "当前epoch-23学习率: 3.8681701706306825e-25\n",
      "当前epoch-24学习率: 1.6117375710961175e-26\n",
      "当前epoch-25学习率: 6.446950284384471e-28\n",
      "当前epoch-26学习率: 2.4795962632247965e-29\n",
      "当前epoch-27学习率: 9.183689863795541e-31\n",
      "当前epoch-28学习率: 3.279889237069836e-32\n",
      "当前epoch-29学习率: 1.130996288644771e-33\n",
      "当前epoch-30学习率: 3.769987628815903e-35\n"
     ]
    }
   ],
   "source": [
    "optimizer.param_groups[0][\"lr\"] = optimizer.defaults['lr']\n",
    "schedular = lr_scheduler.MultiplicativeLR(optimizer, lr_lambda=lambda epoch: 1 / (epoch + 1))\n",
    "print(\"初始化的学习率：\", optimizer.defaults['lr'])\n",
    "for epoch in range(0, 30, 1):\n",
    "    optimizer.zero_grad()\n",
    "    optimizer.step()\n",
    "    print(f'当前epoch-{epoch + 1}学习率: {optimizer.param_groups[0][\"lr\"]}')\n",
    "    schedular.step()"
   ],
   "metadata": {
    "collapsed": false
   }
  },
  {
   "cell_type": "markdown",
   "source": [
    "## ConstantLR学习率调整策略\n",
    "学习率以常量方式衰减total_iters个epoch, 超过epoch后，学习率回到最初值"
   ],
   "metadata": {
    "collapsed": false
   }
  },
  {
   "cell_type": "code",
   "execution_count": 103,
   "outputs": [
    {
     "name": "stdout",
     "output_type": "stream",
     "text": [
      "初始化的学习率： 0.01\n",
      "当前epoch-1学习率: 0.005\n",
      "当前epoch-2学习率: 0.005\n",
      "当前epoch-3学习率: 0.005\n",
      "当前epoch-4学习率: 0.005\n",
      "当前epoch-5学习率: 0.005\n",
      "当前epoch-6学习率: 0.01\n",
      "当前epoch-7学习率: 0.01\n",
      "当前epoch-8学习率: 0.01\n",
      "当前epoch-9学习率: 0.01\n",
      "当前epoch-10学习率: 0.01\n",
      "当前epoch-11学习率: 0.01\n",
      "当前epoch-12学习率: 0.01\n",
      "当前epoch-13学习率: 0.01\n",
      "当前epoch-14学习率: 0.01\n",
      "当前epoch-15学习率: 0.01\n",
      "当前epoch-16学习率: 0.01\n",
      "当前epoch-17学习率: 0.01\n",
      "当前epoch-18学习率: 0.01\n",
      "当前epoch-19学习率: 0.01\n",
      "当前epoch-20学习率: 0.01\n",
      "当前epoch-21学习率: 0.01\n",
      "当前epoch-22学习率: 0.01\n",
      "当前epoch-23学习率: 0.01\n",
      "当前epoch-24学习率: 0.01\n",
      "当前epoch-25学习率: 0.01\n",
      "当前epoch-26学习率: 0.01\n",
      "当前epoch-27学习率: 0.01\n",
      "当前epoch-28学习率: 0.01\n",
      "当前epoch-29学习率: 0.01\n",
      "当前epoch-30学习率: 0.01\n"
     ]
    }
   ],
   "source": [
    "optimizer.param_groups[0][\"lr\"] = optimizer.defaults['lr']\n",
    "schedular = lr_scheduler.ConstantLR(optimizer, factor=0.5, total_iters=5)\n",
    "print(\"初始化的学习率：\", optimizer.defaults['lr'])\n",
    "for epoch in range(0, 30, 1):\n",
    "    optimizer.zero_grad()\n",
    "    optimizer.step()\n",
    "    print(f'当前epoch-{epoch + 1}学习率: {optimizer.param_groups[0][\"lr\"]}')\n",
    "    schedular.step()"
   ],
   "metadata": {
    "collapsed": false
   }
  },
  {
   "cell_type": "code",
   "execution_count": 107,
   "outputs": [
    {
     "name": "stdout",
     "output_type": "stream",
     "text": [
      "{'h': 34}\n"
     ]
    }
   ],
   "source": [
    "\n"
   ],
   "metadata": {
    "collapsed": false
   }
  }
 ],
 "metadata": {
  "kernelspec": {
   "display_name": "Python 3",
   "language": "python",
   "name": "python3"
  },
  "language_info": {
   "codemirror_mode": {
    "name": "ipython",
    "version": 2
   },
   "file_extension": ".py",
   "mimetype": "text/x-python",
   "name": "python",
   "nbconvert_exporter": "python",
   "pygments_lexer": "ipython2",
   "version": "2.7.6"
  }
 },
 "nbformat": 4,
 "nbformat_minor": 0
}
